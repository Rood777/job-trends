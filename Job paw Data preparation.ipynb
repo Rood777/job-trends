{
 "cells": [
  {
   "cell_type": "code",
   "execution_count": 1,
   "metadata": {},
   "outputs": [
    {
     "name": "stdout",
     "output_type": "stream",
     "text": [
      "Requirement already satisfied: beautifulsoup4 in /opt/conda/envs/Python-3.9/lib/python3.9/site-packages (4.10.0)\n",
      "Requirement already satisfied: soupsieve>1.2 in /opt/conda/envs/Python-3.9/lib/python3.9/site-packages (from beautifulsoup4) (2.3.1)\n",
      "Requirement already satisfied: requests in /opt/conda/envs/Python-3.9/lib/python3.9/site-packages (2.26.0)\n",
      "Requirement already satisfied: charset-normalizer~=2.0.0 in /opt/conda/envs/Python-3.9/lib/python3.9/site-packages (from requests) (2.0.4)\n",
      "Requirement already satisfied: certifi>=2017.4.17 in /opt/conda/envs/Python-3.9/lib/python3.9/site-packages (from requests) (2021.10.8)\n",
      "Requirement already satisfied: idna<4,>=2.5 in /opt/conda/envs/Python-3.9/lib/python3.9/site-packages (from requests) (3.3)\n",
      "Requirement already satisfied: urllib3<1.27,>=1.21.1 in /opt/conda/envs/Python-3.9/lib/python3.9/site-packages (from requests) (1.26.7)\n"
     ]
    }
   ],
   "source": [
    "!pip3 install beautifulsoup4\n",
    "!pip3 install requests"
   ]
  },
  {
   "cell_type": "markdown",
   "metadata": {},
   "source": [
    "### IMPORT LIBRARIES"
   ]
  },
  {
   "cell_type": "code",
   "execution_count": 2,
   "metadata": {},
   "outputs": [],
   "source": [
    "import sys\n",
    "import requests\n",
    "from bs4 import BeautifulSoup\n",
    "import re\n",
    "import unicodedata\n",
    "import pandas as pd"
   ]
  },
  {
   "cell_type": "markdown",
   "metadata": {},
   "source": [
    "## Download the 245 url in a list"
   ]
  },
  {
   "cell_type": "code",
   "execution_count": 3,
   "metadata": {},
   "outputs": [
    {
     "data": {
      "text/plain": [
       "'https://www.jobpaw.com/pont/professionnels.php?pageNum_RS_job=0&totalRows_RS_job=12233&id=55'"
      ]
     },
     "execution_count": 3,
     "metadata": {},
     "output_type": "execute_result"
    }
   ],
   "source": [
    "jobpaw_url=[]\n",
    "for PagenumRS in range(0,245):\n",
    "    index=\"https://www.jobpaw.com/pont/professionnels.php?pageNum_RS_job=\"+str(PagenumRS)+\"&totalRows_RS_job=12233&id=55\"\n",
    "    jobpaw_url.append(index)\n",
    "jobpaw_url[0]"
   ]
  },
  {
   "cell_type": "markdown",
   "metadata": {},
   "source": [
    "## WEB SCRAPE OF THE FIRST PAGE"
   ]
  },
  {
   "cell_type": "code",
   "execution_count": 4,
   "metadata": {},
   "outputs": [],
   "source": [
    "response=requests.get(jobpaw_url[0]).text\n",
    "soup=BeautifulSoup(response,\"html.parser\")"
   ]
  },
  {
   "cell_type": "code",
   "execution_count": 5,
   "metadata": {},
   "outputs": [
    {
     "name": "stdout",
     "output_type": "stream",
     "text": [
      "number of tables on site : 1\n"
     ]
    }
   ],
   "source": [
    "#get the number of table on a page \n",
    "gdp=soup.find_all(\"table\",attrs={\"class\":\"table table-hover table-bordered\"})\n",
    "print(\"number of tables on site :\",len(gdp))    "
   ]
  },
  {
   "cell_type": "code",
   "execution_count": 6,
   "metadata": {},
   "outputs": [
    {
     "name": "stdout",
     "output_type": "stream",
     "text": [
      "['Institution', 'Titre du poste', 'Domaine', 'Date limite']\n"
     ]
    }
   ],
   "source": [
    "# Extract the head of the table found\n",
    "table=gdp[0]\n",
    "body=table.find_all(\"tr\")\n",
    "head=body[0]\n",
    "body_rows=body[1:]\n",
    "headings=[]\n",
    "for item in head.find_all(\"th\"):\n",
    "    item=(item.text).rstrip(\"\\n\")\n",
    "    headings.append(item)\n",
    "print(headings)"
   ]
  },
  {
   "cell_type": "code",
   "execution_count": 7,
   "metadata": {},
   "outputs": [],
   "source": [
    "# Extract the rows in the table\n",
    "all_rows=[]\n",
    "for row_num in range(len(body_rows)):\n",
    "    row=[]\n",
    "    for row_item in body_rows[row_num].find_all(\"td\"):\n",
    "        aa=re.sub(\"(\\xa0)|(\\t)|,\",\"\",row_item.text)#subtract \\t in the rows found\n",
    "        row.append(aa)\n",
    "    all_rows.append(row)"
   ]
  },
  {
   "cell_type": "code",
   "execution_count": 8,
   "metadata": {},
   "outputs": [],
   "source": [
    "# Place the rows in a dataFrame with the header\n",
    "df=pd.DataFrame(data=all_rows,columns=headings)\n",
    "#drop the last two rows\n",
    "df.drop(df.tail(2).index,inplace=True)"
   ]
  },
  {
   "cell_type": "code",
   "execution_count": 9,
   "metadata": {},
   "outputs": [
    {
     "data": {
      "text/html": [
       "<div>\n",
       "<style scoped>\n",
       "    .dataframe tbody tr th:only-of-type {\n",
       "        vertical-align: middle;\n",
       "    }\n",
       "\n",
       "    .dataframe tbody tr th {\n",
       "        vertical-align: top;\n",
       "    }\n",
       "\n",
       "    .dataframe thead th {\n",
       "        text-align: right;\n",
       "    }\n",
       "</style>\n",
       "<table border=\"1\" class=\"dataframe\">\n",
       "  <thead>\n",
       "    <tr style=\"text-align: right;\">\n",
       "      <th></th>\n",
       "      <th>Institution</th>\n",
       "      <th>Titre du poste</th>\n",
       "      <th>Domaine</th>\n",
       "      <th>Date limite</th>\n",
       "    </tr>\n",
       "  </thead>\n",
       "  <tbody>\n",
       "    <tr>\n",
       "      <th>0</th>\n",
       "      <td>Haiti Business Center_ Henry &amp; Wallace</td>\n",
       "      <td>Customer Service Agent with English</td>\n",
       "      <td>Management/Gestion Finance Comptabilité et Com...</td>\n",
       "      <td>29 Mars 22</td>\n",
       "    </tr>\n",
       "    <tr>\n",
       "      <th>1</th>\n",
       "      <td>Save the Children en Haiti</td>\n",
       "      <td>Officier(ère) en Communication</td>\n",
       "      <td>Communication et Journalisme</td>\n",
       "      <td>28 Mars 22</td>\n",
       "    </tr>\n",
       "    <tr>\n",
       "      <th>2</th>\n",
       "      <td>Save the Children en Haiti</td>\n",
       "      <td>Assistant(e) à l’Education de Base</td>\n",
       "      <td>Sciences de l’Education</td>\n",
       "      <td>28 Mars 22</td>\n",
       "    </tr>\n",
       "    <tr>\n",
       "      <th>3</th>\n",
       "      <td>Mercy Corps Haiti</td>\n",
       "      <td>Subaward Officer</td>\n",
       "      <td>Management/Gestion Finance Comptabilité et Com...</td>\n",
       "      <td>25 Mars 22</td>\n",
       "    </tr>\n",
       "    <tr>\n",
       "      <th>4</th>\n",
       "      <td>CARE Haiti</td>\n",
       "      <td>Gestionnaire Financier</td>\n",
       "      <td>Management/Gestion Finance Comptabilité et Com...</td>\n",
       "      <td>25 Mars 22</td>\n",
       "    </tr>\n",
       "  </tbody>\n",
       "</table>\n",
       "</div>"
      ],
      "text/plain": [
       "                               Institution  \\\n",
       "0   Haiti Business Center_ Henry & Wallace   \n",
       "1               Save the Children en Haiti   \n",
       "2               Save the Children en Haiti   \n",
       "3                        Mercy Corps Haiti   \n",
       "4                               CARE Haiti   \n",
       "\n",
       "                        Titre du poste  \\\n",
       "0  Customer Service Agent with English   \n",
       "1       Officier(ère) en Communication   \n",
       "2   Assistant(e) à l’Education de Base   \n",
       "3                    Subaward Officer    \n",
       "4               Gestionnaire Financier   \n",
       "\n",
       "                                             Domaine Date limite  \n",
       "0  Management/Gestion Finance Comptabilité et Com...  29 Mars 22  \n",
       "1                       Communication et Journalisme  28 Mars 22  \n",
       "2                            Sciences de l’Education  28 Mars 22  \n",
       "3  Management/Gestion Finance Comptabilité et Com...  25 Mars 22  \n",
       "4  Management/Gestion Finance Comptabilité et Com...  25 Mars 22  "
      ]
     },
     "execution_count": 9,
     "metadata": {},
     "output_type": "execute_result"
    }
   ],
   "source": [
    "df.head()"
   ]
  },
  {
   "cell_type": "code",
   "execution_count": 17,
   "metadata": {},
   "outputs": [],
   "source": [
    "#df1 = df.style.set_table_styles([dict(selector='th', props=[('text-align', 'center')])])\n",
    "#df1.set_properties(**{'text-align': 'center'})"
   ]
  },
  {
   "cell_type": "markdown",
   "metadata": {},
   "source": [
    "## WEB SCRAPE OF THE OTHER PAGES"
   ]
  },
  {
   "cell_type": "code",
   "execution_count": 10,
   "metadata": {},
   "outputs": [],
   "source": [
    "df1=[] # A list that receives all_rows after iteration\n",
    "for url in range(1,245):\n",
    "    response=requests.get(jobpaw_url[url]).text\n",
    "    soup=BeautifulSoup(response,\"html.parser\")\n",
    "    gdp=soup.find_all(\"table\",attrs={\"class\":\"table table-hover table-bordered\"})\n",
    "    #print(\"number of tables on site :\",len(gdp))\n",
    "    table=gdp[0]\n",
    "    body=table.find_all(\"tr\")\n",
    "    head=body[0]\n",
    "    body_rows=body[1:]\n",
    "# A for loop which extract the rows and put them in the all_rows list below\n",
    "    all_rows=[]\n",
    "    for row_num in range(len(body_rows)):\n",
    "        row=[]\n",
    "        for row_item in body_rows[row_num].find_all(\"td\"):\n",
    "            aa=re.sub(\"(\\xa0)|(\\t)|,\",\"\",row_item.text)\n",
    "            row.append(aa)\n",
    "        all_rows.append(row)\n",
    "    df1.append(pd.DataFrame(data=all_rows,columns=headings))\n",
    "    df3=df.append(df1)"
   ]
  },
  {
   "cell_type": "code",
   "execution_count": 143,
   "metadata": {},
   "outputs": [
    {
     "data": {
      "text/html": [
       "<div>\n",
       "<style scoped>\n",
       "    .dataframe tbody tr th:only-of-type {\n",
       "        vertical-align: middle;\n",
       "    }\n",
       "\n",
       "    .dataframe tbody tr th {\n",
       "        vertical-align: top;\n",
       "    }\n",
       "\n",
       "    .dataframe thead th {\n",
       "        text-align: right;\n",
       "    }\n",
       "</style>\n",
       "<table border=\"1\" class=\"dataframe\">\n",
       "  <thead>\n",
       "    <tr style=\"text-align: right;\">\n",
       "      <th></th>\n",
       "      <th>Institution</th>\n",
       "      <th>Titre du poste</th>\n",
       "      <th>Domaine</th>\n",
       "      <th>Date limite</th>\n",
       "    </tr>\n",
       "  </thead>\n",
       "  <tbody>\n",
       "    <tr>\n",
       "      <th>0</th>\n",
       "      <td>Haiti Business Center_ Henry &amp; Wallace</td>\n",
       "      <td>Customer Service Agent with English</td>\n",
       "      <td>Management/Gestion Finance Comptabilité et Com...</td>\n",
       "      <td>29 Mars 22</td>\n",
       "    </tr>\n",
       "    <tr>\n",
       "      <th>1</th>\n",
       "      <td>Save the Children en Haiti</td>\n",
       "      <td>Officier(ère) en Communication</td>\n",
       "      <td>Communication et Journalisme</td>\n",
       "      <td>28 Mars 22</td>\n",
       "    </tr>\n",
       "    <tr>\n",
       "      <th>2</th>\n",
       "      <td>Save the Children en Haiti</td>\n",
       "      <td>Assistant(e) à l’Education de Base</td>\n",
       "      <td>Sciences de l’Education</td>\n",
       "      <td>28 Mars 22</td>\n",
       "    </tr>\n",
       "    <tr>\n",
       "      <th>3</th>\n",
       "      <td>Mercy Corps Haiti</td>\n",
       "      <td>Subaward Officer</td>\n",
       "      <td>Management/Gestion Finance Comptabilité et Com...</td>\n",
       "      <td>25 Mars 22</td>\n",
       "    </tr>\n",
       "    <tr>\n",
       "      <th>4</th>\n",
       "      <td>CARE Haiti</td>\n",
       "      <td>Gestionnaire Financier</td>\n",
       "      <td>Management/Gestion Finance Comptabilité et Com...</td>\n",
       "      <td>25 Mars 22</td>\n",
       "    </tr>\n",
       "  </tbody>\n",
       "</table>\n",
       "</div>"
      ],
      "text/plain": [
       "                               Institution  \\\n",
       "0   Haiti Business Center_ Henry & Wallace   \n",
       "1               Save the Children en Haiti   \n",
       "2               Save the Children en Haiti   \n",
       "3                        Mercy Corps Haiti   \n",
       "4                               CARE Haiti   \n",
       "\n",
       "                        Titre du poste  \\\n",
       "0  Customer Service Agent with English   \n",
       "1       Officier(ère) en Communication   \n",
       "2   Assistant(e) à l’Education de Base   \n",
       "3                    Subaward Officer    \n",
       "4               Gestionnaire Financier   \n",
       "\n",
       "                                             Domaine Date limite  \n",
       "0  Management/Gestion Finance Comptabilité et Com...  29 Mars 22  \n",
       "1                       Communication et Journalisme  28 Mars 22  \n",
       "2                            Sciences de l’Education  28 Mars 22  \n",
       "3  Management/Gestion Finance Comptabilité et Com...  25 Mars 22  \n",
       "4  Management/Gestion Finance Comptabilité et Com...  25 Mars 22  "
      ]
     },
     "execution_count": 143,
     "metadata": {},
     "output_type": "execute_result"
    }
   ],
   "source": [
    "df3.head()"
   ]
  },
  {
   "cell_type": "markdown",
   "metadata": {},
   "source": [
    "## DATA CLEANING"
   ]
  },
  {
   "cell_type": "code",
   "execution_count": 144,
   "metadata": {},
   "outputs": [],
   "source": [
    "# Drop the rows with null value\n",
    "# They content non revelant information\n",
    "df4=df3.dropna()"
   ]
  },
  {
   "cell_type": "code",
   "execution_count": 152,
   "metadata": {},
   "outputs": [
    {
     "data": {
      "text/html": [
       "<div>\n",
       "<style scoped>\n",
       "    .dataframe tbody tr th:only-of-type {\n",
       "        vertical-align: middle;\n",
       "    }\n",
       "\n",
       "    .dataframe tbody tr th {\n",
       "        vertical-align: top;\n",
       "    }\n",
       "\n",
       "    .dataframe thead th {\n",
       "        text-align: right;\n",
       "    }\n",
       "</style>\n",
       "<table border=\"1\" class=\"dataframe\">\n",
       "  <thead>\n",
       "    <tr style=\"text-align: right;\">\n",
       "      <th></th>\n",
       "      <th>Institution</th>\n",
       "      <th>Titre du poste</th>\n",
       "      <th>Domaine</th>\n",
       "      <th>Date limite</th>\n",
       "      <th>Day</th>\n",
       "      <th>Month</th>\n",
       "      <th>year</th>\n",
       "    </tr>\n",
       "  </thead>\n",
       "  <tbody>\n",
       "    <tr>\n",
       "      <th>0</th>\n",
       "      <td>Haiti Business Center_ Henry &amp; Wallace</td>\n",
       "      <td>Customer Service Agent with English</td>\n",
       "      <td>Management/Gestion Finance Comptabilité et Com...</td>\n",
       "      <td>29 Mars 22</td>\n",
       "      <td>29</td>\n",
       "      <td>Mars</td>\n",
       "      <td>22</td>\n",
       "    </tr>\n",
       "    <tr>\n",
       "      <th>1</th>\n",
       "      <td>Save the Children en Haiti</td>\n",
       "      <td>Officier(ère) en Communication</td>\n",
       "      <td>Communication et Journalisme</td>\n",
       "      <td>28 Mars 22</td>\n",
       "      <td>28</td>\n",
       "      <td>Mars</td>\n",
       "      <td>22</td>\n",
       "    </tr>\n",
       "    <tr>\n",
       "      <th>2</th>\n",
       "      <td>Save the Children en Haiti</td>\n",
       "      <td>Assistant(e) à l’Education de Base</td>\n",
       "      <td>Sciences de l’Education</td>\n",
       "      <td>28 Mars 22</td>\n",
       "      <td>28</td>\n",
       "      <td>Mars</td>\n",
       "      <td>22</td>\n",
       "    </tr>\n",
       "    <tr>\n",
       "      <th>3</th>\n",
       "      <td>Mercy Corps Haiti</td>\n",
       "      <td>Subaward Officer</td>\n",
       "      <td>Management/Gestion Finance Comptabilité et Com...</td>\n",
       "      <td>25 Mars 22</td>\n",
       "      <td>25</td>\n",
       "      <td>Mars</td>\n",
       "      <td>22</td>\n",
       "    </tr>\n",
       "    <tr>\n",
       "      <th>4</th>\n",
       "      <td>CARE Haiti</td>\n",
       "      <td>Gestionnaire Financier</td>\n",
       "      <td>Management/Gestion Finance Comptabilité et Com...</td>\n",
       "      <td>25 Mars 22</td>\n",
       "      <td>25</td>\n",
       "      <td>Mars</td>\n",
       "      <td>22</td>\n",
       "    </tr>\n",
       "    <tr>\n",
       "      <th>...</th>\n",
       "      <td>...</td>\n",
       "      <td>...</td>\n",
       "      <td>...</td>\n",
       "      <td>...</td>\n",
       "      <td>...</td>\n",
       "      <td>...</td>\n",
       "      <td>...</td>\n",
       "    </tr>\n",
       "    <tr>\n",
       "      <th>11985</th>\n",
       "      <td>Secteur international</td>\n",
       "      <td>Generator Operator</td>\n",
       "      <td>Sciences de l’Ingénieur</td>\n",
       "      <td>00 00</td>\n",
       "      <td></td>\n",
       "      <td>00</td>\n",
       "      <td>00</td>\n",
       "    </tr>\n",
       "    <tr>\n",
       "      <th>11986</th>\n",
       "      <td>KonbitSante:Cap Haitien Health Partnership</td>\n",
       "      <td>Program Manager</td>\n",
       "      <td>Santé et Professions médicales</td>\n",
       "      <td>00 00</td>\n",
       "      <td></td>\n",
       "      <td>00</td>\n",
       "      <td>00</td>\n",
       "    </tr>\n",
       "    <tr>\n",
       "      <th>11987</th>\n",
       "      <td>Habitat for Humanity International</td>\n",
       "      <td>Logistik ak materyel kodonate (konsiltan) / Lo...</td>\n",
       "      <td>Transport et Logistique</td>\n",
       "      <td>00 00</td>\n",
       "      <td></td>\n",
       "      <td>00</td>\n",
       "      <td>00</td>\n",
       "    </tr>\n",
       "    <tr>\n",
       "      <th>11988</th>\n",
       "      <td>JobPaw</td>\n",
       "      <td>Construction Foreman/Superintendent</td>\n",
       "      <td>Métiers du bâtiment et autres</td>\n",
       "      <td>00 00</td>\n",
       "      <td></td>\n",
       "      <td>00</td>\n",
       "      <td>00</td>\n",
       "    </tr>\n",
       "    <tr>\n",
       "      <th>11989</th>\n",
       "      <td>J/P HRO</td>\n",
       "      <td>Procurement Officer</td>\n",
       "      <td>Management/Gestion Finance Comptabilité et Com...</td>\n",
       "      <td>00 00</td>\n",
       "      <td></td>\n",
       "      <td>00</td>\n",
       "      <td>00</td>\n",
       "    </tr>\n",
       "  </tbody>\n",
       "</table>\n",
       "<p>11990 rows × 7 columns</p>\n",
       "</div>"
      ],
      "text/plain": [
       "                                       Institution  \\\n",
       "0           Haiti Business Center_ Henry & Wallace   \n",
       "1                       Save the Children en Haiti   \n",
       "2                       Save the Children en Haiti   \n",
       "3                                Mercy Corps Haiti   \n",
       "4                                       CARE Haiti   \n",
       "...                                            ...   \n",
       "11985                        Secteur international   \n",
       "11986   KonbitSante:Cap Haitien Health Partnership   \n",
       "11987           Habitat for Humanity International   \n",
       "11988                                       JobPaw   \n",
       "11989                                      J/P HRO   \n",
       "\n",
       "                                          Titre du poste  \\\n",
       "0                    Customer Service Agent with English   \n",
       "1                         Officier(ère) en Communication   \n",
       "2                     Assistant(e) à l’Education de Base   \n",
       "3                                      Subaward Officer    \n",
       "4                                 Gestionnaire Financier   \n",
       "...                                                  ...   \n",
       "11985                                 Generator Operator   \n",
       "11986                                    Program Manager   \n",
       "11987  Logistik ak materyel kodonate (konsiltan) / Lo...   \n",
       "11988                Construction Foreman/Superintendent   \n",
       "11989                                Procurement Officer   \n",
       "\n",
       "                                                 Domaine Date limite Day  \\\n",
       "0      Management/Gestion Finance Comptabilité et Com...  29 Mars 22  29   \n",
       "1                           Communication et Journalisme  28 Mars 22  28   \n",
       "2                                Sciences de l’Education  28 Mars 22  28   \n",
       "3      Management/Gestion Finance Comptabilité et Com...  25 Mars 22  25   \n",
       "4      Management/Gestion Finance Comptabilité et Com...  25 Mars 22  25   \n",
       "...                                                  ...         ...  ..   \n",
       "11985                            Sciences de l’Ingénieur       00 00       \n",
       "11986                     Santé et Professions médicales       00 00       \n",
       "11987                            Transport et Logistique       00 00       \n",
       "11988                      Métiers du bâtiment et autres       00 00       \n",
       "11989  Management/Gestion Finance Comptabilité et Com...       00 00       \n",
       "\n",
       "      Month year  \n",
       "0      Mars   22  \n",
       "1      Mars   22  \n",
       "2      Mars   22  \n",
       "3      Mars   22  \n",
       "4      Mars   22  \n",
       "...     ...  ...  \n",
       "11985    00   00  \n",
       "11986    00   00  \n",
       "11987    00   00  \n",
       "11988    00   00  \n",
       "11989    00   00  \n",
       "\n",
       "[11990 rows x 7 columns]"
      ]
     },
     "execution_count": 152,
     "metadata": {},
     "output_type": "execute_result"
    }
   ],
   "source": [
    "#drop the first index and replace it with a new one\n",
    "df4.reset_index(drop=True)"
   ]
  },
  {
   "cell_type": "code",
   "execution_count": 34,
   "metadata": {},
   "outputs": [],
   "source": [
    "#df4.to_csv()"
   ]
  },
  {
   "cell_type": "code",
   "execution_count": 148,
   "metadata": {},
   "outputs": [
    {
     "name": "stderr",
     "output_type": "stream",
     "text": [
      "/opt/conda/envs/Python-3.9/lib/python3.9/site-packages/pandas/core/frame.py:3641: SettingWithCopyWarning: \n",
      "A value is trying to be set on a copy of a slice from a DataFrame.\n",
      "Try using .loc[row_indexer,col_indexer] = value instead\n",
      "\n",
      "See the caveats in the documentation: https://pandas.pydata.org/pandas-docs/stable/user_guide/indexing.html#returning-a-view-versus-a-copy\n",
      "  self[k1] = value[k2]\n"
     ]
    }
   ],
   "source": [
    "df4[['Day','Month','year']]=df4['Date limite'].str.split(' ',expand=True)"
   ]
  },
  {
   "cell_type": "markdown",
   "metadata": {},
   "source": [
    "## EDA"
   ]
  },
  {
   "cell_type": "code",
   "execution_count": 38,
   "metadata": {},
   "outputs": [],
   "source": [
    "import matplotlib.pyplot as plt\n",
    "import numpy as np\n",
    "%matplotlib inline\n",
    "import seaborn as sns"
   ]
  },
  {
   "cell_type": "code",
   "execution_count": 124,
   "metadata": {},
   "outputs": [],
   "source": [
    "df_Institution=pd.DataFrame(df4['Institution'].value_counts())"
   ]
  },
  {
   "cell_type": "code",
   "execution_count": 155,
   "metadata": {},
   "outputs": [
    {
     "data": {
      "text/html": [
       "<div>\n",
       "<style scoped>\n",
       "    .dataframe tbody tr th:only-of-type {\n",
       "        vertical-align: middle;\n",
       "    }\n",
       "\n",
       "    .dataframe tbody tr th {\n",
       "        vertical-align: top;\n",
       "    }\n",
       "\n",
       "    .dataframe thead th {\n",
       "        text-align: right;\n",
       "    }\n",
       "</style>\n",
       "<table border=\"1\" class=\"dataframe\">\n",
       "  <thead>\n",
       "    <tr style=\"text-align: right;\">\n",
       "      <th></th>\n",
       "      <th>Institution</th>\n",
       "    </tr>\n",
       "  </thead>\n",
       "  <tbody>\n",
       "    <tr>\n",
       "      <th>CRS</th>\n",
       "      <td>741</td>\n",
       "    </tr>\n",
       "    <tr>\n",
       "      <th>Plan International-Haiti</th>\n",
       "      <td>372</td>\n",
       "    </tr>\n",
       "    <tr>\n",
       "      <th>Save the Children en Haiti</th>\n",
       "      <td>314</td>\n",
       "    </tr>\n",
       "    <tr>\n",
       "      <th>Secteur prive</th>\n",
       "      <td>296</td>\n",
       "    </tr>\n",
       "    <tr>\n",
       "      <th>Secteur ong</th>\n",
       "      <td>287</td>\n",
       "    </tr>\n",
       "    <tr>\n",
       "      <th>Concern Worldwide Haiti</th>\n",
       "      <td>286</td>\n",
       "    </tr>\n",
       "    <tr>\n",
       "      <th>CARE Haiti</th>\n",
       "      <td>266</td>\n",
       "    </tr>\n",
       "    <tr>\n",
       "      <th>GOAL Haiti</th>\n",
       "      <td>214</td>\n",
       "    </tr>\n",
       "    <tr>\n",
       "      <th>OHMaSS (PSI-Haïti)</th>\n",
       "      <td>198</td>\n",
       "    </tr>\n",
       "    <tr>\n",
       "      <th>Croix Rouge Americaine</th>\n",
       "      <td>193</td>\n",
       "    </tr>\n",
       "    <tr>\n",
       "      <th>MSH</th>\n",
       "      <td>190</td>\n",
       "    </tr>\n",
       "    <tr>\n",
       "      <th>PNUD Haiti</th>\n",
       "      <td>187</td>\n",
       "    </tr>\n",
       "    <tr>\n",
       "      <th>FAO</th>\n",
       "      <td>181</td>\n",
       "    </tr>\n",
       "    <tr>\n",
       "      <th>J/P HRO</th>\n",
       "      <td>173</td>\n",
       "    </tr>\n",
       "    <tr>\n",
       "      <th>Mercy Corps Haiti</th>\n",
       "      <td>160</td>\n",
       "    </tr>\n",
       "    <tr>\n",
       "      <th>Jhpiego</th>\n",
       "      <td>148</td>\n",
       "    </tr>\n",
       "    <tr>\n",
       "      <th>DIGICEL</th>\n",
       "      <td>125</td>\n",
       "    </tr>\n",
       "    <tr>\n",
       "      <th>ZL/PIH</th>\n",
       "      <td>119</td>\n",
       "    </tr>\n",
       "    <tr>\n",
       "      <th>USAID|Haiti/AVANSE</th>\n",
       "      <td>115</td>\n",
       "    </tr>\n",
       "    <tr>\n",
       "      <th>Oxfam Intermon</th>\n",
       "      <td>114</td>\n",
       "    </tr>\n",
       "    <tr>\n",
       "      <th>World Vision Haiti</th>\n",
       "      <td>111</td>\n",
       "    </tr>\n",
       "    <tr>\n",
       "      <th>CDS</th>\n",
       "      <td>104</td>\n",
       "    </tr>\n",
       "    <tr>\n",
       "      <th>HRI / an leve kanpe</th>\n",
       "      <td>96</td>\n",
       "    </tr>\n",
       "    <tr>\n",
       "      <th>Action Contre la Faim - Haïti</th>\n",
       "      <td>95</td>\n",
       "    </tr>\n",
       "    <tr>\n",
       "      <th>IFRC</th>\n",
       "      <td>92</td>\n",
       "    </tr>\n",
       "    <tr>\n",
       "      <th>GHSC-PSM</th>\n",
       "      <td>92</td>\n",
       "    </tr>\n",
       "    <tr>\n",
       "      <th>Habitat for Humanity International</th>\n",
       "      <td>84</td>\n",
       "    </tr>\n",
       "    <tr>\n",
       "      <th>FHI/Humanité &amp; Inclusion_ HI</th>\n",
       "      <td>84</td>\n",
       "    </tr>\n",
       "    <tr>\n",
       "      <th>MSI - KONEKTE</th>\n",
       "      <td>82</td>\n",
       "    </tr>\n",
       "    <tr>\n",
       "      <th>UMCOR</th>\n",
       "      <td>82</td>\n",
       "    </tr>\n",
       "    <tr>\n",
       "      <th>CFET S.A.</th>\n",
       "      <td>82</td>\n",
       "    </tr>\n",
       "    <tr>\n",
       "      <th>Secteur international</th>\n",
       "      <td>76</td>\n",
       "    </tr>\n",
       "    <tr>\n",
       "      <th>Global Communities - (formerly CHF)</th>\n",
       "      <td>76</td>\n",
       "    </tr>\n",
       "    <tr>\n",
       "      <th>DAI/WASH</th>\n",
       "      <td>71</td>\n",
       "    </tr>\n",
       "    <tr>\n",
       "      <th>Chemonics International / Projet de reboisement USAID</th>\n",
       "      <td>68</td>\n",
       "    </tr>\n",
       "    <tr>\n",
       "      <th>Entrepreneurs du Monde/Palmis Mikwofinans Sosyal</th>\n",
       "      <td>68</td>\n",
       "    </tr>\n",
       "    <tr>\n",
       "      <th>SOS Villages d'Enfants Haiti</th>\n",
       "      <td>67</td>\n",
       "    </tr>\n",
       "    <tr>\n",
       "      <th>MARNDR/RESEPAG</th>\n",
       "      <td>67</td>\n",
       "    </tr>\n",
       "    <tr>\n",
       "      <th>FINCA Haiti S.A.</th>\n",
       "      <td>65</td>\n",
       "    </tr>\n",
       "    <tr>\n",
       "      <th>ABT/Shops Plus Project USAID</th>\n",
       "      <td>62</td>\n",
       "    </tr>\n",
       "    <tr>\n",
       "      <th>WeltHungerHilfe (Agro Action Allemande)</th>\n",
       "      <td>58</td>\n",
       "    </tr>\n",
       "    <tr>\n",
       "      <th>Chemonics / IFMS</th>\n",
       "      <td>57</td>\n",
       "    </tr>\n",
       "    <tr>\n",
       "      <th>Croix Rouge Canadienne</th>\n",
       "      <td>56</td>\n",
       "    </tr>\n",
       "    <tr>\n",
       "      <th>Solidarites International</th>\n",
       "      <td>55</td>\n",
       "    </tr>\n",
       "    <tr>\n",
       "      <th>Build Change</th>\n",
       "      <td>51</td>\n",
       "    </tr>\n",
       "    <tr>\n",
       "      <th>FONKOZE</th>\n",
       "      <td>51</td>\n",
       "    </tr>\n",
       "    <tr>\n",
       "      <th>FAES</th>\n",
       "      <td>51</td>\n",
       "    </tr>\n",
       "    <tr>\n",
       "      <th>USAID</th>\n",
       "      <td>50</td>\n",
       "    </tr>\n",
       "    <tr>\n",
       "      <th>CRS-Cayes</th>\n",
       "      <td>50</td>\n",
       "    </tr>\n",
       "    <tr>\n",
       "      <th>Helvetas Swiss Intercooperation</th>\n",
       "      <td>50</td>\n",
       "    </tr>\n",
       "  </tbody>\n",
       "</table>\n",
       "</div>"
      ],
      "text/plain": [
       "                                                    Institution\n",
       " CRS                                                        741\n",
       " Plan International-Haiti                                   372\n",
       " Save the Children en Haiti                                 314\n",
       " Secteur prive                                              296\n",
       " Secteur ong                                                287\n",
       " Concern Worldwide Haiti                                    286\n",
       " CARE Haiti                                                 266\n",
       " GOAL Haiti                                                 214\n",
       " OHMaSS (PSI-Haïti)                                         198\n",
       " Croix Rouge Americaine                                     193\n",
       " MSH                                                        190\n",
       " PNUD Haiti                                                 187\n",
       " FAO                                                        181\n",
       " J/P HRO                                                    173\n",
       " Mercy Corps Haiti                                          160\n",
       " Jhpiego                                                    148\n",
       " DIGICEL                                                    125\n",
       " ZL/PIH                                                     119\n",
       " USAID|Haiti/AVANSE                                         115\n",
       " Oxfam Intermon                                             114\n",
       " World Vision Haiti                                         111\n",
       " CDS                                                        104\n",
       " HRI / an leve kanpe                                         96\n",
       " Action Contre la Faim - Haïti                               95\n",
       " IFRC                                                        92\n",
       " GHSC-PSM                                                    92\n",
       " Habitat for Humanity International                          84\n",
       " FHI/Humanité & Inclusion_ HI                                84\n",
       " MSI - KONEKTE                                               82\n",
       " UMCOR                                                       82\n",
       " CFET S.A.                                                   82\n",
       " Secteur international                                       76\n",
       " Global Communities - (formerly CHF)                         76\n",
       " DAI/WASH                                                    71\n",
       " Chemonics International / Projet de reboisemen...           68\n",
       " Entrepreneurs du Monde/Palmis Mikwofinans Sosyal            68\n",
       " SOS Villages d'Enfants Haiti                                67\n",
       " MARNDR/RESEPAG                                              67\n",
       " FINCA Haiti S.A.                                            65\n",
       " ABT/Shops Plus Project USAID                                62\n",
       " WeltHungerHilfe (Agro Action Allemande)                     58\n",
       " Chemonics / IFMS                                            57\n",
       " Croix Rouge Canadienne                                      56\n",
       " Solidarites International                                   55\n",
       " Build Change                                                51\n",
       " FONKOZE                                                     51\n",
       " FAES                                                        51\n",
       " USAID                                                       50\n",
       " CRS-Cayes                                                   50\n",
       " Helvetas Swiss Intercooperation                             50"
      ]
     },
     "execution_count": 155,
     "metadata": {},
     "output_type": "execute_result"
    }
   ],
   "source": [
    "df_Institution.head(50)"
   ]
  },
  {
   "cell_type": "code",
   "execution_count": 131,
   "metadata": {},
   "outputs": [
    {
     "data": {
      "text/plain": [
       "Text(0.5, 1.0, 'Top 10 recruiting institution')"
      ]
     },
     "execution_count": 131,
     "metadata": {},
     "output_type": "execute_result"
    },
    {
     "data": {
      "image/png": "[encoded data removed]",
      "text/plain": [
       "<Figure size 864x576 with 1 Axes>"
      ]
     },
     "metadata": {},
     "output_type": "display_data"
    }
   ],
   "source": [
    "df_Institution.head(10).plot.barh(figsize=(12,8))\n",
    "plt.title('Top 10 recruiting institution',fontsize=18)"
   ]
  },
  {
   "cell_type": "code",
   "execution_count": 157,
   "metadata": {},
   "outputs": [],
   "source": [
    "df_titre=pd.DataFrame(df4['Titre du poste'].value_counts())"
   ]
  },
  {
   "cell_type": "code",
   "execution_count": 158,
   "metadata": {},
   "outputs": [
    {
     "data": {
      "text/html": [
       "<div>\n",
       "<style scoped>\n",
       "    .dataframe tbody tr th:only-of-type {\n",
       "        vertical-align: middle;\n",
       "    }\n",
       "\n",
       "    .dataframe tbody tr th {\n",
       "        vertical-align: top;\n",
       "    }\n",
       "\n",
       "    .dataframe thead th {\n",
       "        text-align: right;\n",
       "    }\n",
       "</style>\n",
       "<table border=\"1\" class=\"dataframe\">\n",
       "  <thead>\n",
       "    <tr style=\"text-align: right;\">\n",
       "      <th></th>\n",
       "      <th>Titre du poste</th>\n",
       "    </tr>\n",
       "  </thead>\n",
       "  <tbody>\n",
       "    <tr>\n",
       "      <th>Comptable</th>\n",
       "      <td>94</td>\n",
       "    </tr>\n",
       "    <tr>\n",
       "      <th>Chauffeur</th>\n",
       "      <td>71</td>\n",
       "    </tr>\n",
       "    <tr>\n",
       "      <th>Assistante Administrative</th>\n",
       "      <td>41</td>\n",
       "    </tr>\n",
       "    <tr>\n",
       "      <th>Administrative Assistant</th>\n",
       "      <td>37</td>\n",
       "    </tr>\n",
       "    <tr>\n",
       "      <th>Finance Manager</th>\n",
       "      <td>35</td>\n",
       "    </tr>\n",
       "    <tr>\n",
       "      <th>Procurement Officer</th>\n",
       "      <td>24</td>\n",
       "    </tr>\n",
       "    <tr>\n",
       "      <th>Program Manager</th>\n",
       "      <td>23</td>\n",
       "    </tr>\n",
       "    <tr>\n",
       "      <th>Travailleur Social</th>\n",
       "      <td>23</td>\n",
       "    </tr>\n",
       "    <tr>\n",
       "      <th>Project Manager</th>\n",
       "      <td>22</td>\n",
       "    </tr>\n",
       "    <tr>\n",
       "      <th>Logisticien</th>\n",
       "      <td>21</td>\n",
       "    </tr>\n",
       "    <tr>\n",
       "      <th>Accountant</th>\n",
       "      <td>20</td>\n",
       "    </tr>\n",
       "    <tr>\n",
       "      <th>Finance Officer</th>\n",
       "      <td>19</td>\n",
       "    </tr>\n",
       "    <tr>\n",
       "      <th>Human Resources Manager</th>\n",
       "      <td>19</td>\n",
       "    </tr>\n",
       "    <tr>\n",
       "      <th>Finance Assistant</th>\n",
       "      <td>17</td>\n",
       "    </tr>\n",
       "    <tr>\n",
       "      <th>Chief of Party</th>\n",
       "      <td>17</td>\n",
       "    </tr>\n",
       "  </tbody>\n",
       "</table>\n",
       "</div>"
      ],
      "text/plain": [
       "                           Titre du poste\n",
       "Comptable                              94\n",
       "Chauffeur                              71\n",
       "Assistante Administrative              41\n",
       "Administrative Assistant               37\n",
       "Finance Manager                        35\n",
       "Procurement Officer                    24\n",
       "Program Manager                        23\n",
       "Travailleur Social                     23\n",
       "Project Manager                        22\n",
       "Logisticien                            21\n",
       "Accountant                             20\n",
       "Finance Officer                        19\n",
       "Human Resources Manager                19\n",
       "Finance Assistant                      17\n",
       "Chief of Party                         17"
      ]
     },
     "execution_count": 158,
     "metadata": {},
     "output_type": "execute_result"
    }
   ],
   "source": [
    "df_titre.head(15)"
   ]
  },
  {
   "cell_type": "code",
   "execution_count": 137,
   "metadata": {},
   "outputs": [
    {
     "data": {
      "text/plain": [
       "Text(0.5, 1.0, 'Top 10 title job posted by number')"
      ]
     },
     "execution_count": 137,
     "metadata": {},
     "output_type": "execute_result"
    },
    {
     "data": {
      "image/png": "[encoded data removed]",
      "text/plain": [
       "<Figure size 864x576 with 1 Axes>"
      ]
     },
     "metadata": {},
     "output_type": "display_data"
    }
   ],
   "source": [
    "df_titre.head(10).plot.barh(figsize=(12,8),color=['blue','blue','grey','grey','red','blue','red','blue','red','blue'])\n",
    "plt.title('Top 10 title job posted by number',fontsize=18)"
   ]
  },
  {
   "cell_type": "code",
   "execution_count": 159,
   "metadata": {},
   "outputs": [
    {
     "data": {
      "text/plain": [
       "Management/Gestion Finance Comptabilité et Commerce    4035\n",
       "Santé et Professions médicales                         1420\n",
       "Sciences Humaines et Sociales                          1320\n",
       "Agriculture – Agroalimentaire                           820\n",
       "Sciences de l’Ingénieur                                 662\n",
       "Sciences économiques et politiques                      476\n",
       "Sciences Informatiques                                  453\n",
       "Transport et Logistique                                 409\n",
       "Sciences de l’Education                                 388\n",
       "Secrétariat                                             370\n",
       "Communication et Journalisme                            350\n",
       "Marketing                                               187\n",
       "- - Non-defini - -                                      186\n",
       "Environnement et Sciences de la Terre                   184\n",
       "Architecture Urbanisme et Aménagement du territoire     162\n",
       "Name: Domaine, dtype: int64"
      ]
     },
     "execution_count": 159,
     "metadata": {},
     "output_type": "execute_result"
    }
   ],
   "source": [
    "#df5=df4['Domaine'].value_counts()\n",
    "df_domaine=df4['Domaine'].value_counts()\n",
    "df_domaine.head(15)"
   ]
  },
  {
   "cell_type": "code",
   "execution_count": 161,
   "metadata": {},
   "outputs": [
    {
     "data": {
      "text/plain": [
       "Text(0.5, 1.0, 'Top 10 wanted field by number of job posted ')"
      ]
     },
     "execution_count": 161,
     "metadata": {},
     "output_type": "execute_result"
    },
    {
     "data": {
      "image/png": "[encoded data removed]",
      "text/plain": [
       "<Figure size 864x576 with 1 Axes>"
      ]
     },
     "metadata": {},
     "output_type": "display_data"
    }
   ],
   "source": [
    "df_domaine.head(10).plot.barh(figsize=(12,8),color=['blue','blue','blue','blue','red','blue','blue','blue','blue','blue'])\n",
    "plt.title('Top 10 wanted field by number of job posted ',fontsize=18)"
   ]
  },
  {
   "cell_type": "code",
   "execution_count": 100,
   "metadata": {},
   "outputs": [
    {
     "data": {
      "text/plain": [
       "Text(0.5, 1.0, 'Number of job posted by month')"
      ]
     },
     "execution_count": 100,
     "metadata": {},
     "output_type": "execute_result"
    },
    {
     "data": {
      "image/png": "[encoded data removed]",
      "text/plain": [
       "<Figure size 864x576 with 1 Axes>"
      ]
     },
     "metadata": {},
     "output_type": "display_data"
    }
   ],
   "source": [
    "df4['Month'].value_counts().plot.barh(figsize=(12,8))\n",
    "plt.title('Number of job posted by month',fontsize=18)"
   ]
  },
  {
   "cell_type": "code",
   "execution_count": 104,
   "metadata": {},
   "outputs": [
    {
     "data": {
      "text/plain": [
       "Text(0.5, 1.0, 'Number of job posted by year')"
      ]
     },
     "execution_count": 104,
     "metadata": {},
     "output_type": "execute_result"
    },
    {
     "data": {
      "image/png": "[encoded data removed]",
      "text/plain": [
       "<Figure size 864x576 with 1 Axes>"
      ]
     },
     "metadata": {},
     "output_type": "display_data"
    }
   ],
   "source": [
    "df4['year'].value_counts().plot.barh(figsize=(12,8))\n",
    "plt.title('Number of job posted by year',fontsize=18)"
   ]
  },
  {
   "cell_type": "code",
   "execution_count": null,
   "metadata": {},
   "outputs": [],
   "source": []
  }
 ],
 "metadata": {
  "kernelspec": {
   "display_name": "Python 3 (ipykernel)",
   "language": "python",
   "name": "python3"
  },
  "language_info": {
   "codemirror_mode": {
    "name": "ipython",
    "version": 3
   },
   "file_extension": ".py",
   "mimetype": "text/x-python",
   "name": "python",
   "nbconvert_exporter": "python",
   "pygments_lexer": "ipython3",
   "version": "3.9.7"
  }
 },
 "nbformat": 4,
 "nbformat_minor": 1
}
